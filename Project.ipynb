{
 "cells": [
  {
   "cell_type": "code",
   "execution_count": 1,
   "metadata": {},
   "outputs": [],
   "source": [
    "import pandas as pd\n",
    "from datetime import datetime"
   ]
  },
  {
   "cell_type": "markdown",
   "metadata": {},
   "source": [
    "## Raw Data Summary\n",
    "\n",
    "* 2 csv files found amongst Kaggle's public datasets\n",
    "* X\n",
    "* X\n",
    "* X\n",
    "* X"
   ]
  },
  {
   "cell_type": "markdown",
   "metadata": {},
   "source": [
    "## Data Preparation\n",
    "\n",
    "\n",
    "\n",
    "\n"
   ]
  },
  {
   "cell_type": "code",
   "execution_count": 2,
   "metadata": {},
   "outputs": [],
   "source": [
    "rdt = pd.read_csv('realdonaldtrump.csv')\n",
    "bo = pd.read_csv('Tweets-BarackObama.csv')"
   ]
  },
  {
   "cell_type": "code",
   "execution_count": 151,
   "metadata": {},
   "outputs": [
    {
     "name": "stdout",
     "output_type": "stream",
     "text": [
      "obama 6768 trump 42979\n"
     ]
    }
   ],
   "source": [
    "print('obama', bo['Date'].nunique(), 'trump', rdt['date'].nunique())"
   ]
  },
  {
   "cell_type": "markdown",
   "metadata": {},
   "source": [
    "#### Tweet Dataframes\n",
    "* Limited to same time frames\n",
    "* Standardized the dates"
   ]
  },
  {
   "cell_type": "code",
   "execution_count": 63,
   "metadata": {},
   "outputs": [],
   "source": [
    "def time_limits(date):\n",
    "    oldest = datetime.strptime('01/01/13', '%d/%m/%y').date()\n",
    "    newest = datetime.strptime('01/01/19', '%d/%m/%y').date()\n",
    "    return ((date =< newest) & (date >= oldest))\n",
    "\n",
    "\n",
    "def tweets_df(file_name, date_column, date_format, tweet_column):\n",
    "    data = pd.read_csv(file_name)\n",
    "    data['Datetime'] = data[date_column].apply(lambda x: datetime.strptime(x[:10], date_format).date() )\n",
    "    data['Words'] = data[tweet_column].apply(lambda x: x.split(\" \"))\n",
    "    data = data[time_limits(data['Datetime'])]\n",
    "    return data"
   ]
  },
  {
   "cell_type": "code",
   "execution_count": 64,
   "metadata": {},
   "outputs": [],
   "source": [
    "bo_tweets = tweets_df('Tweets-BarackObama.csv',  'Date', '%Y/%m/%d', 'Tweet-text' )\n",
    "rdt_tweets = tweets_df('realdonaldtrump.csv', 'date', '%Y-%m-%d',  'content' )"
   ]
  },
  {
   "cell_type": "code",
   "execution_count": 65,
   "metadata": {
    "scrolled": true
   },
   "outputs": [
    {
     "data": {
      "text/html": [
       "<div>\n",
       "<style scoped>\n",
       "    .dataframe tbody tr th:only-of-type {\n",
       "        vertical-align: middle;\n",
       "    }\n",
       "\n",
       "    .dataframe tbody tr th {\n",
       "        vertical-align: top;\n",
       "    }\n",
       "\n",
       "    .dataframe thead th {\n",
       "        text-align: right;\n",
       "    }\n",
       "</style>\n",
       "<table border=\"1\" class=\"dataframe\">\n",
       "  <thead>\n",
       "    <tr style=\"text-align: right;\">\n",
       "      <th></th>\n",
       "      <th>Author</th>\n",
       "      <th>Date</th>\n",
       "      <th>Text</th>\n",
       "      <th>Words</th>\n",
       "      <th>Retweets</th>\n",
       "      <th>Likes</th>\n",
       "    </tr>\n",
       "  </thead>\n",
       "  <tbody>\n",
       "    <tr>\n",
       "      <th>36</th>\n",
       "      <td>Obama</td>\n",
       "      <td>2018-12-29</td>\n",
       "      <td>I hope you find inspiration in the stories of ...</td>\n",
       "      <td>[I, hope, you, find, inspiration, in, the, sto...</td>\n",
       "      <td>11579.0</td>\n",
       "      <td>92906.0</td>\n",
       "    </tr>\n",
       "    <tr>\n",
       "      <th>37</th>\n",
       "      <td>Obama</td>\n",
       "      <td>2018-12-29</td>\n",
       "      <td>Leaders like Jonny Boucher a Chicago native wh...</td>\n",
       "      <td>[Leaders, like, Jonny, Boucher, a, Chicago, na...</td>\n",
       "      <td>19658.0</td>\n",
       "      <td>113752.0</td>\n",
       "    </tr>\n",
       "    <tr>\n",
       "      <th>38</th>\n",
       "      <td>Obama</td>\n",
       "      <td>2018-12-29</td>\n",
       "      <td>Leaders like Hong Hoang who mobilized a youth-...</td>\n",
       "      <td>[Leaders, like, Hong, Hoang, who, mobilized, a...</td>\n",
       "      <td>3791.0</td>\n",
       "      <td>29283.0</td>\n",
       "    </tr>\n",
       "    <tr>\n",
       "      <th>39</th>\n",
       "      <td>Obama</td>\n",
       "      <td>2018-12-29</td>\n",
       "      <td>Leaders like Moussa Kondo and Sandor Lederer w...</td>\n",
       "      <td>[Leaders, like, Moussa, Kondo, and, Sandor, Le...</td>\n",
       "      <td>3841.0</td>\n",
       "      <td>27248.0</td>\n",
       "    </tr>\n",
       "    <tr>\n",
       "      <th>40</th>\n",
       "      <td>Obama</td>\n",
       "      <td>2018-12-29</td>\n",
       "      <td>Leaders like Dejah Powell who started an organ...</td>\n",
       "      <td>[Leaders, like, Dejah, Powell, who, started, a...</td>\n",
       "      <td>5169.0</td>\n",
       "      <td>35342.0</td>\n",
       "    </tr>\n",
       "    <tr>\n",
       "      <th>...</th>\n",
       "      <td>...</td>\n",
       "      <td>...</td>\n",
       "      <td>...</td>\n",
       "      <td>...</td>\n",
       "      <td>...</td>\n",
       "      <td>...</td>\n",
       "    </tr>\n",
       "    <tr>\n",
       "      <th>36344</th>\n",
       "      <td>Trump</td>\n",
       "      <td>2018-12-31</td>\n",
       "      <td>....Senator Schumer, more than a year longer t...</td>\n",
       "      <td>[....Senator, Schumer,, more, than, a, year, l...</td>\n",
       "      <td>18858.0</td>\n",
       "      <td>78559.0</td>\n",
       "    </tr>\n",
       "    <tr>\n",
       "      <th>36345</th>\n",
       "      <td>Trump</td>\n",
       "      <td>2018-12-31</td>\n",
       "      <td>HAPPY NEW YEAR!pic.twitter.com/bHoPDPQ7G6</td>\n",
       "      <td>[HAPPY, NEW, YEAR!pic.twitter.com/bHoPDPQ7G6]</td>\n",
       "      <td>32578.0</td>\n",
       "      <td>149581.0</td>\n",
       "    </tr>\n",
       "    <tr>\n",
       "      <th>36346</th>\n",
       "      <td>Trump</td>\n",
       "      <td>2018-12-31</td>\n",
       "      <td>MEXICO IS PAYING FOR THE WALL through the many...</td>\n",
       "      <td>[MEXICO, IS, PAYING, FOR, THE, WALL, through, ...</td>\n",
       "      <td>20684.0</td>\n",
       "      <td>94748.0</td>\n",
       "    </tr>\n",
       "    <tr>\n",
       "      <th>36347</th>\n",
       "      <td>Trump</td>\n",
       "      <td>2018-12-31</td>\n",
       "      <td>The Democrats will probably submit a Bill, bei...</td>\n",
       "      <td>[The, Democrats, will, probably, submit, a, Bi...</td>\n",
       "      <td>19841.0</td>\n",
       "      <td>89922.0</td>\n",
       "    </tr>\n",
       "    <tr>\n",
       "      <th>36348</th>\n",
       "      <td>Trump</td>\n",
       "      <td>2018-12-31</td>\n",
       "      <td>...Remember this. Throughout the ages some thi...</td>\n",
       "      <td>[...Remember, this., Throughout, the, ages, so...</td>\n",
       "      <td>24731.0</td>\n",
       "      <td>122883.0</td>\n",
       "    </tr>\n",
       "  </tbody>\n",
       "</table>\n",
       "<p>37649 rows × 6 columns</p>\n",
       "</div>"
      ],
      "text/plain": [
       "      Author        Date                                               Text  \\\n",
       "36     Obama  2018-12-29  I hope you find inspiration in the stories of ...   \n",
       "37     Obama  2018-12-29  Leaders like Jonny Boucher a Chicago native wh...   \n",
       "38     Obama  2018-12-29  Leaders like Hong Hoang who mobilized a youth-...   \n",
       "39     Obama  2018-12-29  Leaders like Moussa Kondo and Sandor Lederer w...   \n",
       "40     Obama  2018-12-29  Leaders like Dejah Powell who started an organ...   \n",
       "...      ...         ...                                                ...   \n",
       "36344  Trump  2018-12-31  ....Senator Schumer, more than a year longer t...   \n",
       "36345  Trump  2018-12-31          HAPPY NEW YEAR!pic.twitter.com/bHoPDPQ7G6   \n",
       "36346  Trump  2018-12-31  MEXICO IS PAYING FOR THE WALL through the many...   \n",
       "36347  Trump  2018-12-31  The Democrats will probably submit a Bill, bei...   \n",
       "36348  Trump  2018-12-31  ...Remember this. Throughout the ages some thi...   \n",
       "\n",
       "                                                   Words  Retweets     Likes  \n",
       "36     [I, hope, you, find, inspiration, in, the, sto...   11579.0   92906.0  \n",
       "37     [Leaders, like, Jonny, Boucher, a, Chicago, na...   19658.0  113752.0  \n",
       "38     [Leaders, like, Hong, Hoang, who, mobilized, a...    3791.0   29283.0  \n",
       "39     [Leaders, like, Moussa, Kondo, and, Sandor, Le...    3841.0   27248.0  \n",
       "40     [Leaders, like, Dejah, Powell, who, started, a...    5169.0   35342.0  \n",
       "...                                                  ...       ...       ...  \n",
       "36344  [....Senator, Schumer,, more, than, a, year, l...   18858.0   78559.0  \n",
       "36345      [HAPPY, NEW, YEAR!pic.twitter.com/bHoPDPQ7G6]   32578.0  149581.0  \n",
       "36346  [MEXICO, IS, PAYING, FOR, THE, WALL, through, ...   20684.0   94748.0  \n",
       "36347  [The, Democrats, will, probably, submit, a, Bi...   19841.0   89922.0  \n",
       "36348  [...Remember, this., Throughout, the, ages, so...   24731.0  122883.0  \n",
       "\n",
       "[37649 rows x 6 columns]"
      ]
     },
     "execution_count": 65,
     "metadata": {},
     "output_type": "execute_result"
    }
   ],
   "source": [
    "d = {'Author': [], 'Date': [], 'Text': [], 'Words': [], 'Words': [], 'Retweets': [], 'Likes': []}\n",
    "tweets = pd.DataFrame(data=d)\n",
    "\n",
    "d1 = {'Author': 'Obama', 'Date': bo_tweets['Datetime'], 'Text': bo_tweets['Tweet-text'], \n",
    "      'Words': bo_tweets['Words'], 'Retweets': bo_tweets['Retweets'], 'Likes': bo_tweets['Likes']}\n",
    "df1 = pd.DataFrame(data=d1)\n",
    "d2 = {'Author': 'Trump', 'Date': rdt_tweets['Datetime'], 'Text': rdt_tweets['content'], \n",
    "      'Words': rdt_tweets['Words'], 'Retweets': rdt_tweets['retweets'], 'Likes': rdt_tweets['favorites']}\n",
    "df2 = pd.DataFrame(data=d2)\n",
    "tweets = tweets.append(df1)\n",
    "tweets = tweets.append(df2)\n",
    "tweets"
   ]
  },
  {
   "cell_type": "code",
   "execution_count": 66,
   "metadata": {},
   "outputs": [
    {
     "name": "stdout",
     "output_type": "stream",
     "text": [
      "2018-12-31 2013-01-02\n"
     ]
    }
   ],
   "source": [
    "print( tweets['Date'].max(), tweets['Date'].min())"
   ]
  },
  {
   "cell_type": "markdown",
   "metadata": {},
   "source": [
    "#### Word Dataframes\n",
    "* Created two dictionaries as dataframes\n",
    "* Filtered out conjunctions, articles, prepositions, and conjunctions for simplicity (chose to keep pronouns)\n",
    "* Combed over capitalizations and extra symbols (e.g., both 'president' and '-president' grouped under 'president)"
   ]
  },
  {
   "cell_type": "code",
   "execution_count": 13,
   "metadata": {},
   "outputs": [],
   "source": [
    "exclude = ['to', 'the', 'a', 'an', 'of', 'for', 'and', 'is', 'in', 'on', 'are', 'that', 'this', 'have', 'at', 'be', 'about', \n",
    "           'from', 'it', \"it's\", 'its', 'than', 'then', 'from', 'with', 'as', 'who', 'do', 'has', 'not', 'by', 'what', '@', '\"', \n",
    "           '#', '&', '…', '-', 'so', 'but', 'i', 'you', 'he', 'she', 'we', 'they', 'my', 'your', 'her', 'his', 'our', 'their']"
   ]
  },
  {
   "cell_type": "code",
   "execution_count": 14,
   "metadata": {},
   "outputs": [],
   "source": [
    "def words_df(data):\n",
    "    words_list = []\n",
    "    for i in range (0, len(data)):\n",
    "        words_list += data['Words'][i]\n",
    "    words_df = pd.DataFrame({'Word': words_list})\n",
    "    words_df['word'] = words_df['Word'].apply(lambda x: x.lower())\n",
    "    words_df['Exclude'] = words_df['word'].apply(lambda x: x in exclude)\n",
    "    words_df = words_df[words_df['Exclude'] == False]\n",
    "    return words_df"
   ]
  },
  {
   "cell_type": "code",
   "execution_count": 15,
   "metadata": {
    "scrolled": true
   },
   "outputs": [],
   "source": [
    "bo_words = words_df(bo_tweets)\n",
    "rdt_words = words_df(rdt_tweets)"
   ]
  },
  {
   "cell_type": "code",
   "execution_count": 16,
   "metadata": {},
   "outputs": [
    {
     "data": {
      "text/plain": [
       "obama            2170\n",
       "—president       1447\n",
       "president        1208\n",
       "if                499\n",
       "health            478\n",
       "more              463\n",
       "congress          405\n",
       "time              400\n",
       "get               358\n",
       "americans         355\n",
       "will              343\n",
       "can               342\n",
       "make              339\n",
       "care              325\n",
       "all               304\n",
       "up                280\n",
       "people            276\n",
       "watch             267\n",
       "climate           267\n",
       "#actonclimate     252\n",
       "Name: word, dtype: int64"
      ]
     },
     "execution_count": 16,
     "metadata": {},
     "output_type": "execute_result"
    }
   ],
   "source": [
    "bo_words['word'].value_counts().head(20)"
   ]
  },
  {
   "cell_type": "code",
   "execution_count": 113,
   "metadata": {},
   "outputs": [
    {
     "data": {
      "text/plain": [
       "realdonaldtrump    7932\n",
       "will               6490\n",
       "great              5787\n",
       "trump              3665\n",
       "was                3369\n",
       "thank              3003\n",
       "all                2927\n",
       "just               2652\n",
       "very               2461\n",
       "people             2114\n",
       "no                 2059\n",
       "would              1972\n",
       "new                1912\n",
       "get                1898\n",
       "if                 1801\n",
       "president          1777\n",
       "like               1680\n",
       "should             1653\n",
       "more               1574\n",
       "out                1573\n",
       "Name: word, dtype: int64"
      ]
     },
     "execution_count": 113,
     "metadata": {},
     "output_type": "execute_result"
    }
   ],
   "source": [
    "rdt_words['word'].value_counts().head(20)"
   ]
  },
  {
   "cell_type": "code",
   "execution_count": null,
   "metadata": {},
   "outputs": [],
   "source": [
    "def find_word(df, word):\n",
    "    df['FindWord'] = df[Words].apply(lambda x: word in x)\n",
    "    return df\n",
    "\n",
    "def plot_word(word):\n",
    "    find_word(bo_tweets, word)\n",
    "    find_word(rdt_tweets, word)\n",
    "    \n",
    "    "
   ]
  }
 ],
 "metadata": {
  "kernelspec": {
   "display_name": "Python 3",
   "language": "python",
   "name": "python3"
  },
  "language_info": {
   "codemirror_mode": {
    "name": "ipython",
    "version": 3
   },
   "file_extension": ".py",
   "mimetype": "text/x-python",
   "name": "python",
   "nbconvert_exporter": "python",
   "pygments_lexer": "ipython3",
   "version": "3.7.6"
  }
 },
 "nbformat": 4,
 "nbformat_minor": 4
}
